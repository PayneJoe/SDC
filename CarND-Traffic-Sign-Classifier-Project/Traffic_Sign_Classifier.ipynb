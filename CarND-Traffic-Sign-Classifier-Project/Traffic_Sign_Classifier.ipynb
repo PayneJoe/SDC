{
 "cells": [
  {
   "cell_type": "code",
   "execution_count": 1,
   "metadata": {
    "ExecuteTime": {
     "end_time": "2018-04-01T17:29:34.628757Z",
     "start_time": "2018-04-01T17:29:31.884755Z"
    },
    "collapsed": true
   },
   "outputs": [],
   "source": [
    "import pickle\n",
    "import pandas as pd\n",
    "import numpy as np\n",
    "import random\n",
    "import matplotlib.pyplot as plt\n",
    "from sklearn.utils import shuffle\n",
    "import sys,os,time\n",
    "import tensorflow as tf\n",
    "from contextlib import contextmanager\n",
    "from math import ceil, floor\n",
    "import cv2\n",
    "from tensorflow.contrib.layers import flatten\n",
    "%matplotlib inline\n",
    "\n",
    "@contextmanager\n",
    "def timer(name):\n",
    "    \"\"\"\n",
    "    Taken from Konstantin Lopuhin https://www.kaggle.com/lopuhin\n",
    "    in script named : Mercari Golf: 0.3875 CV in 75 LOC, 1900 s\n",
    "    https://www.kaggle.com/lopuhin/mercari-golf-0-3875-cv-in-75-loc-1900-s\n",
    "    \"\"\"\n",
    "    t0 = time.time()\n",
    "    yield\n",
    "    print(f'[{name}] done in {time.time() - t0:.0f} s')\n",
    "    \n",
    "def plot(img):\n",
    "    plt.figure(figsize=(1,1))\n",
    "    plt.imshow(img, cmap=\"gray\")\n",
    "    plt.show()"
   ]
  },
  {
   "cell_type": "code",
   "execution_count": 2,
   "metadata": {
    "ExecuteTime": {
     "end_time": "2018-04-01T17:29:34.846457Z",
     "start_time": "2018-04-01T17:29:34.630421Z"
    },
    "collapsed": true
   },
   "outputs": [],
   "source": [
    "## Load pickled data\n",
    "training_file = 'train.p'\n",
    "validation_file= 'valid.p'\n",
    "testing_file = 'test.p'\n",
    "\n",
    "with open(training_file, mode='rb') as f:\n",
    "    train = pickle.load(f)\n",
    "with open(validation_file, mode='rb') as f:\n",
    "    valid = pickle.load(f)\n",
    "with open(testing_file, mode='rb') as f:\n",
    "    test = pickle.load(f)\n",
    "    \n",
    "X_train, y_train = train['features'], train['labels']\n",
    "X_valid, y_valid = valid['features'], valid['labels']\n",
    "X_test, y_test = test['features'], test['labels']"
   ]
  },
  {
   "cell_type": "code",
   "execution_count": 3,
   "metadata": {
    "ExecuteTime": {
     "end_time": "2018-04-01T17:31:36.141729Z",
     "start_time": "2018-04-01T17:31:35.580965Z"
    }
   },
   "outputs": [
    {
     "name": "stdout",
     "output_type": "stream",
     "text": [
      "\n",
      "Propotion of classes in training examples: \n",
      "[ 0.00517256  0.05689819  0.05776028  0.03620794  0.05086353  0.04741516\n",
      "  0.01034512  0.03707003  0.03620794  0.03793212  0.05172562  0.03362166\n",
      "  0.05431191  0.055174    0.01982816  0.01551769  0.01034512  0.02844909\n",
      "  0.03103537  0.00517256  0.00862094  0.00775884  0.00948303  0.01293141\n",
      "  0.00689675  0.03879422  0.01551769  0.00603466  0.0137935   0.00689675\n",
      "  0.01120722  0.01982816  0.00603466  0.01721314  0.01034512  0.03103537\n",
      "  0.00948303  0.00517256  0.05344981  0.00775884  0.00862094  0.00603466\n",
      "  0.00603466]\n",
      "\n",
      "Summary for data sets: \n",
      "Number of training examples = 34799\n",
      "Number of validation examples = 4410\n",
      "Number of testing examples = 12630\n",
      "Image data shape = (32, 32, 3)\n",
      "Number of classes = 43\n",
      "\n",
      "Visualization for propotion of labels in train data set: \n"
     ]
    },
    {
     "data": {
      "image/png": "[encoded data removed]",
      "text/plain": [
       "<matplotlib.figure.Figure at 0x7f7282920dd8>"
      ]
     },
     "metadata": {},
     "output_type": "display_data"
    },
    {
     "name": "stdout",
     "output_type": "stream",
     "text": [
      "\n",
      "Visualization for few images from train: \n"
     ]
    },
    {
     "data": {
      "image/png": "[encoded data removed]",
      "text/plain": [
       "<matplotlib.figure.Figure at 0x7f72828a5438>"
      ]
     },
     "metadata": {},
     "output_type": "display_data"
    },
    {
     "data": {
      "image/png": "[encoded data removed]",
      "text/plain": [
       "<matplotlib.figure.Figure at 0x7f7281f5b518>"
      ]
     },
     "metadata": {},
     "output_type": "display_data"
    },
    {
     "data": {
      "image/png": "[encoded data removed]",
      "text/plain": [
       "<matplotlib.figure.Figure at 0x7f7281ea7198>"
      ]
     },
     "metadata": {},
     "output_type": "display_data"
    },
    {
     "data": {
      "image/png": "[encoded data removed]",
      "text/plain": [
       "<matplotlib.figure.Figure at 0x7f7281e754a8>"
      ]
     },
     "metadata": {},
     "output_type": "display_data"
    },
    {
     "data": {
      "image/png": "[encoded data removed]",
      "text/plain": [
       "<matplotlib.figure.Figure at 0x7f7281e5d518>"
      ]
     },
     "metadata": {},
     "output_type": "display_data"
    }
   ],
   "source": [
    "## basic info of data sets and visualization\n",
    "# Number of training examples\n",
    "n_train = X_train.shape[0]\n",
    "\n",
    "# Number of validation examples\n",
    "n_validation = X_valid.shape[0]\n",
    "\n",
    "# Number of testing examples.\n",
    "n_test = X_test.shape[0]\n",
    "\n",
    "# What's the shape of an traffic sign image?\n",
    "image_shape = X_train[0].shape\n",
    "\n",
    "# How many unique classes/labels there are in the dataset.\n",
    "n_classes = len(np.unique(y_train))\n",
    "\n",
    "# What propotions do these classes/labels take?\n",
    "p_classes = dict((c, 0) for c in range(n_classes))\n",
    "for l in y_train:\n",
    "    p_classes[l] += 1\n",
    "print('\\nPropotion of classes in training examples: ')\n",
    "print(np.divide(list(p_classes.values()),np.sum(list(p_classes.values()))))\n",
    "\n",
    "print('\\nSummary for data sets: ')\n",
    "print(\"Number of training examples =\", n_train)\n",
    "print(\"Number of validation examples =\", n_validation)\n",
    "print(\"Number of testing examples =\", n_test)\n",
    "print(\"Image data shape =\", image_shape)\n",
    "print(\"Number of classes =\", n_classes)\n",
    "\n",
    "# visualization for the propotion of labels in train data set\n",
    "print('\\nVisualization for propotion of labels in train data set: ')\n",
    "p = list(np.divide(list(p_classes.values()),np.sum(list(p_classes.values()))))\n",
    "x = np.argsort(p)\n",
    "y = np.sort(p)\n",
    "plt.subplot(111)\n",
    "plt.bar(x, y)\n",
    "plt.savefig('label_propotions.jpg')\n",
    "plt.show()\n",
    "\n",
    "# visualization for few images from train\n",
    "print('\\nVisualization for few images from train: ')\n",
    "for i in range(5):\n",
    "    index = random.randint(0, len(X_train))\n",
    "    plot(X_train[index])\n",
    "    cv2.imwrite('x_%s.jpg' % i, X_train[index])"
   ]
  },
  {
   "cell_type": "code",
   "execution_count": 4,
   "metadata": {
    "ExecuteTime": {
     "end_time": "2018-04-01T17:29:35.711428Z",
     "start_time": "2018-04-01T17:29:31.888Z"
    }
   },
   "outputs": [
    {
     "name": "stdout",
     "output_type": "stream",
     "text": [
      "original shape: \n",
      "(34799, 32, 32, 3)\n",
      "(34799,)\n",
      "0 done.\n",
      "1000 done.\n",
      "2000 done.\n",
      "3000 done.\n",
      "4000 done.\n",
      "5000 done.\n",
      "6000 done.\n",
      "7000 done.\n",
      "8000 done.\n",
      "9000 done.\n",
      "10000 done.\n",
      "11000 done.\n",
      "12000 done.\n",
      "13000 done.\n",
      "14000 done.\n",
      "15000 done.\n",
      "16000 done.\n",
      "17000 done.\n",
      "18000 done.\n",
      "19000 done.\n",
      "20000 done.\n",
      "21000 done.\n",
      "22000 done.\n",
      "23000 done.\n",
      "24000 done.\n",
      "25000 done.\n",
      "26000 done.\n",
      "27000 done.\n",
      "28000 done.\n",
      "29000 done.\n",
      "30000 done.\n",
      "31000 done.\n",
      "32000 done.\n",
      "33000 done.\n",
      "34000 done.\n",
      "[Augmentation ] done in 4071 s\n",
      "augmented shape: \n",
      "(417588, 32, 32, 3)\n",
      "(417588,)\n"
     ]
    }
   ],
   "source": [
    "IMAGE_SIZE = 32\n",
    "\n",
    "## visualization for image\n",
    "def plot(image):\n",
    "    plt.figure(figsize=(1,1))\n",
    "    plt.imshow(image, cmap=\"gray\")\n",
    "    plt.show()\n",
    "    \n",
    "## random brightness for image\n",
    "def random_brightness(img):\n",
    "    \n",
    "    image = tf.identity(img)\n",
    "    \n",
    "    image = tf.image.random_hue(image, max_delta=0.05)\n",
    "    image = tf.image.random_contrast(image, lower=0.3, upper=1.0)\n",
    "    image = tf.image.random_brightness(image, max_delta=0.1)\n",
    "    image = tf.image.random_saturation(image, lower=0.0, upper=2.0)   \n",
    "    image = tf.cast(image, tf.uint8)\n",
    "    \n",
    "    return image\n",
    "# random noise for image\n",
    "def random_noise(img):\n",
    "    \n",
    "    image = tf.identity(img)\n",
    "    \n",
    "    white_mask = tf.fill([32, 32, 3], np.uint8(255))\n",
    "    threshold_mask = tf.fill([32, 32, 3], np.float32(0.1))\n",
    "    noise_img = tf.random_normal(shape= [32, 32, 3], mean= .0, stddev= 0.1, dtype= tf.float32)\n",
    "    noise_mask = tf.multiply(tf.cast(tf.greater(noise_img, threshold_mask), tf.uint8), white_mask)\n",
    "    \n",
    "    image = tf.cast(tf.maximum(tf.cast(image, tf.int32), tf.cast(noise_mask, tf.int32)), tf.uint8)\n",
    "    \n",
    "    return image\n",
    "\n",
    "# fixed deep-brightness for image\n",
    "def fixed_brightness(X_imgs):\n",
    "    \n",
    "    n_samples = len(X_imgs)\n",
    "    brightened_imgs = []\n",
    "    row, col, _ = X_imgs[0].shape\n",
    "    # Gaussian distribution parameters\n",
    "    mean = 0\n",
    "    var = 0.1\n",
    "    sigma = var ** 0.5\n",
    "    \n",
    "    bright_weight = [0.15, 0.25]\n",
    "    \n",
    "    for w in bright_weight:\n",
    "        for i in range(n_samples):\n",
    "            img = X_imgs[i].copy()\n",
    "            gaussian = np.random.random((row, col, 1)).astype(np.float32)\n",
    "            gaussian = np.concatenate((gaussian, gaussian, gaussian), axis = 2)\n",
    "            img = img.astype(np.float32)/255\n",
    "            gaussian_img = cv2.addWeighted(img, w, 0.25 * gaussian, 0.25, 0)\n",
    "            gaussian_img = (gaussian_img * 255).astype(np.uint8).tolist()\n",
    "            brightened_imgs.append(gaussian_img)\n",
    "            \n",
    "    return brightened_imgs\n",
    "# paint white on black part\n",
    "def paintwhite1(img):\n",
    "\n",
    "    image = tf.identity(img)\n",
    "    \n",
    "    m1 = tf.cast(tf.less(image, tf.fill([32, 32, 3], np.uint8(65))), tf.uint8)\n",
    "    white_img = tf.fill([32, 32, 3], np.uint8(255))\n",
    "    \n",
    "    image = tf.maximum(tf.cast(image, tf.int32), tf.cast(tf.multiply(white_img, m1), tf.int32))\n",
    "    image = tf.cast(image, tf.uint8)\n",
    "    \n",
    "    return image\n",
    "# paint white on red part\n",
    "def paintwhite2(img):\n",
    "    \n",
    "    image = tf.identity(img)\n",
    "    \n",
    "    m1 = tf.cast(tf.less(image, tf.fill([32, 32, 3], np.uint8(120))), tf.uint8)\n",
    "    m2 = tf.cast(tf.greater(image, tf.fill([32, 32, 3], np.uint8(65))), tf.uint8)\n",
    "    m = tf.multiply(m1, m2)\n",
    "    white_img = tf.fill([32, 32, 3], np.uint8(255))\n",
    "    \n",
    "    image = tf.maximum(tf.cast(image, tf.int32), tf.cast(tf.multiply(white_img, m), tf.int32))\n",
    "    image = tf.cast(image, tf.uint8)\n",
    "    \n",
    "    return image\n",
    "\n",
    "## random scale for image\n",
    "def random_scale(img):\n",
    "    \n",
    "    image = tf.identity(img)\n",
    "    \n",
    "    image = tf.divide(tf.cast(image, tf.float32), 255)\n",
    "    image = tf.random_crop(image, size=[24, 24, 3])\n",
    "    image = tf.image.resize_images(image, (32, 32))\n",
    "    image = tf.cast(tf.multiply(image, 255.0), tf.uint8)\n",
    "    \n",
    "    return image\n",
    "# get translate params\n",
    "def get_translate_parameters(index):\n",
    "    if index == 0: # Translate left 20 percent\n",
    "        offset = np.array([0.0, 0.2], dtype = np.float32)\n",
    "        size = np.array([IMAGE_SIZE, ceil(0.8 * IMAGE_SIZE)], dtype = np.int32)\n",
    "        w_start = 0\n",
    "        w_end = int(ceil(0.8 * IMAGE_SIZE))\n",
    "        h_start = 0\n",
    "        h_end = IMAGE_SIZE\n",
    "    elif index == 1: # Translate right 20 percent\n",
    "        offset = np.array([0.0, -0.2], dtype = np.float32)\n",
    "        size = np.array([IMAGE_SIZE, ceil(0.8 * IMAGE_SIZE)], dtype = np.int32)\n",
    "        w_start = int(floor((1 - 0.8) * IMAGE_SIZE))\n",
    "        w_end = IMAGE_SIZE\n",
    "        h_start = 0\n",
    "        h_end = IMAGE_SIZE\n",
    "    elif index == 2: # Translate top 20 percent\n",
    "        offset = np.array([0.2, 0.0], dtype = np.float32)\n",
    "        size = np.array([ceil(0.8 * IMAGE_SIZE), IMAGE_SIZE], dtype = np.int32)\n",
    "        w_start = 0\n",
    "        w_end = IMAGE_SIZE\n",
    "        h_start = 0\n",
    "        h_end = int(ceil(0.8 * IMAGE_SIZE)) \n",
    "    else: # Translate bottom 20 percent\n",
    "        offset = np.array([-0.2, 0.0], dtype = np.float32)\n",
    "        size = np.array([ceil(0.8 * IMAGE_SIZE), IMAGE_SIZE], dtype = np.int32)\n",
    "        w_start = 0\n",
    "        w_end = IMAGE_SIZE\n",
    "        h_start = int(floor((1 - 0.8) * IMAGE_SIZE))\n",
    "        h_end = IMAGE_SIZE \n",
    "        \n",
    "    return offset, size, w_start, w_end, h_start, h_end\n",
    "\n",
    "## augmentation for train images\n",
    "def augment_data(dataset, dataset_labels, augementation_factor= 4):\n",
    "    augmented_image = []\n",
    "    augmented_image_labels = []\n",
    "\n",
    "    img_input = tf.placeholder(tf.uint8, (32, 32, 3))\n",
    "    # random brightness\n",
    "    bright = random_brightness(img_input)\n",
    "    # scale\n",
    "    scale = random_scale(img_input)\n",
    "    # random noise\n",
    "    noise = random_noise(img_input)\n",
    "    # paint white\n",
    "    paint = paintwhite1(img_input)\n",
    "    \n",
    "    n = 0\n",
    "    with tf.Session() as sess:\n",
    "        for num in range (0, dataset.shape[0]):\n",
    "            # original image\n",
    "            augmented_image.append(dataset[num].tolist())\n",
    "            augmented_image_labels.append(dataset_labels[num])\n",
    "            for i in range(0, augementation_factor):\n",
    "                # random brightness for image\n",
    "                result_img = sess.run(bright, feed_dict= {img_input: dataset[num]})\n",
    "                augmented_image.append(result_img.tolist())\n",
    "                augmented_image_labels.append(dataset_labels[num])\n",
    "                # random scale for image\n",
    "                result_img = sess.run(scale, feed_dict= {img_input: dataset[num]})\n",
    "                augmented_image.append(result_img.tolist())\n",
    "                augmented_image_labels.append(dataset_labels[num])\n",
    "#                 # paint\n",
    "#                 result_img = sess.run(paint, feed_dict= {img_input: dataset[num]})\n",
    "#                 augmented_image.append(result_img.tolist())\n",
    "#                 augmented_image_labels.append(dataset_labels[num])\n",
    "            # random noise for image\n",
    "            result_img = sess.run(noise, feed_dict= {img_input: dataset[num]})\n",
    "            augmented_image.append(result_img.tolist())\n",
    "            augmented_image_labels.append(dataset_labels[num])\n",
    "                \n",
    "            if((n % 1000) == 0):\n",
    "                print('%s done.' % n)\n",
    "            n += 1\n",
    "#         # translation for images\n",
    "#         offsets = np.zeros((dataset.shape[0], 2), dtype = np.float32)\n",
    "#         n_translations = 4\n",
    "#         for i in range(n_translations):\n",
    "#             X_translated = np.zeros((dataset.shape[0], 32, 32, 3), dtype = np.float32)\n",
    "#             X_translated.fill(1.0) # Filling background color\n",
    "#             base_offset, size, w_start, w_end, h_start, h_end = get_translate_parameters(i)\n",
    "#             offsets[:, :] = base_offset \n",
    "#             glimpses = tf.image.extract_glimpse(dataset/255.0, size, offsets)   \n",
    "#             glimpses = sess.run(glimpses)\n",
    "#             X_translated[:, h_start: h_start + size[0], w_start: w_start + size[1], :] = glimpses\n",
    "#             augmented_image.extend((np.array(X_translated) * 255.0).astype(np.uint8).tolist())\n",
    "#             augmented_image_labels.extend(dataset_labels)\n",
    "        # add fixed deep-brightness for images as deep-darkness exists in certain kinds of images\n",
    "        augmented_image.extend(fixed_brightness(dataset))\n",
    "        augmented_image_labels.extend(dataset_labels)\n",
    "        augmented_image_labels.extend(dataset_labels)\n",
    "    return np.array(augmented_image).astype(np.uint8), np.array(augmented_image_labels)\n",
    "\n",
    "print('original shape: ')\n",
    "print(X_train.shape)\n",
    "print(y_train.shape)\n",
    "with timer('Augmentation '):\n",
    "    X_train, y_train = augment_data(X_train, y_train) # it's a time-consuming preprocess\n",
    "print('augmented shape: ')\n",
    "print(X_train.shape)\n",
    "print(y_train.shape)\n",
    "\n",
    "## debugging for certain kind of images\n",
    "# label = 0\n",
    "# idx = np.argwhere(y_train == label).flatten()\n",
    "# print('size label %s is %s' % (label, len(idx)))\n",
    "# print(X_train.shape)\n",
    "# X_train_1 = X_train[idx,]\n",
    "# y_train_1 = y_train[idx,]\n",
    "# print(X_train_1.shape)\n",
    "# tmp_x = X_train_1[:1,]\n",
    "# tmp_y = y_train_1[:1,]\n",
    "# print(tmp_x.shape)\n",
    "# tmp_x, tmp_y = augment_data(tmp_x, tmp_y)\n",
    "# tmp_x = tmp_x.astype(np.uint8)\n",
    "# for i in range(len(tmp_x)):\n",
    "#     plot(tmp_x[i])\n",
    "# sys.exit(1)"
   ]
  },
  {
   "cell_type": "code",
   "execution_count": 5,
   "metadata": {
    "ExecuteTime": {
     "end_time": "2018-04-01T17:29:35.712394Z",
     "start_time": "2018-04-01T17:29:31.891Z"
    },
    "collapsed": true
   },
   "outputs": [],
   "source": [
    "## LE-Net architechure\n",
    "# add dropout for these two convolutional layer to avoid overfitting after adding few times of augmentation images\n",
    "import tensorflow as tf\n",
    "from tensorflow.contrib.layers import flatten\n",
    "\n",
    "def LeNet(x, keep_prob_1, keep_prob_2):    \n",
    "    # Arguments used for tf.truncated_normal, randomly defines variables for the weights and biases for each layer\n",
    "    mu = 0\n",
    "    sigma = 0.1\n",
    "    \n",
    "    filter_1= 6\n",
    "    filter_2= 16\n",
    "    full_1 = 120\n",
    "    full_2 = 84\n",
    "    full_3 = 43\n",
    "    \n",
    "    # Layer 1: Convolutional. Input = 32x32x3. \n",
    "    # out_height = (32 - 5 + 1)/1 = 28,\n",
    "    # out_width = (32 - 5 + 1)/1 = 28,\n",
    "    # out_depth = 6(tunned)\n",
    "    # Output = 28 * 28 * 6\n",
    "    conv1_W = tf.Variable(tf.truncated_normal(shape=(5, 5, 3, filter_1), mean = mu, stddev = sigma))\n",
    "    conv1_b = tf.Variable(tf.zeros(filter_1))\n",
    "    conv1   = tf.nn.conv2d(x, conv1_W, strides=[1, 1, 1, 1], padding='VALID') + conv1_b\n",
    "\n",
    "    conv1_size = int((32 - 5 + 1)/1)\n",
    "    \n",
    "    # Activation.\n",
    "    conv1 = tf.nn.relu(conv1)\n",
    "    conv1 = tf.nn.dropout(conv1, keep_prob_1)\n",
    "\n",
    "    # Pooling. Input = 28x28x6. \n",
    "    # out_height = (28 - 2 + 2)/2 = 14,\n",
    "    # out_width = (28 - 2 + 2)/2 = 14,\n",
    "    # out_depth = 6(handed by conv1)\n",
    "    # Output = 14x14x6.\n",
    "    conv1 = tf.nn.max_pool(conv1, ksize=[1, 2, 2, 1], strides=[1, 2, 2, 1], padding='VALID')\n",
    "    conv1_size = int((conv1_size - 2 + 2)/2)\n",
    "    \n",
    "    # Layer 2: Convolutional. \n",
    "    # out_height = (14 - 5 + 1)/1 = 10,\n",
    "    # out_width = (14 - 5 + 1)/1 = 10,\n",
    "    # out_depth = 16(tunned)\n",
    "    # Output = 10x10x16.\n",
    "    conv2_W = tf.Variable(tf.truncated_normal(shape=(5, 5, filter_1, filter_2), mean = mu, stddev = sigma))\n",
    "    conv2_b = tf.Variable(tf.zeros(filter_2))\n",
    "    conv2   = tf.nn.conv2d(conv1, conv2_W, strides=[1, 1, 1, 1], padding='VALID') + conv2_b\n",
    "    conv2_size = int((conv1_size - 5 + 1)/1)\n",
    "    \n",
    "    # Activation.\n",
    "    conv2 = tf.nn.relu(conv2)\n",
    "    conv2 = tf.nn.dropout(conv2, keep_prob_2)\n",
    "\n",
    "    # Pooling. Input = 10x10x16. \n",
    "    # out_height = (10 - 2 + 2)/2 = 5,\n",
    "    # out_width = (10 - 2 + 2)/2 = 5,\n",
    "    # out_depth = 16(handed by conv2)\n",
    "    # Output = 5x5x16.\n",
    "    conv2 = tf.nn.max_pool(conv2, ksize=[1, 2, 2, 1], strides=[1, 2, 2, 1], padding='VALID')\n",
    "    conv2_size = int((conv2_size - 2 + 2)/2)\n",
    "    \n",
    "    # Flatten. Input = 5x5x16.\n",
    "    # Output = 5 * 5 * 16 = 400.\n",
    "    fc0   = flatten(conv2)\n",
    "    \n",
    "    # Layer 3: Fully Connected. Input = 400. Output = 120.\n",
    "    fc1_W = tf.Variable(tf.truncated_normal(shape=(conv2_size * conv2_size * filter_2, full_1), mean = mu, stddev = sigma))\n",
    "    fc1_b = tf.Variable(tf.zeros(full_1))\n",
    "    fc1   = tf.matmul(fc0, fc1_W) + fc1_b\n",
    "    \n",
    "    # Activation.\n",
    "    fc1    = tf.nn.relu(fc1)\n",
    "\n",
    "    # Layer 4: Fully Connected. Input = 120. Output = 84.\n",
    "    fc2_W  = tf.Variable(tf.truncated_normal(shape=(full_1, full_2), mean = mu, stddev = sigma))\n",
    "    fc2_b  = tf.Variable(tf.zeros(full_2))\n",
    "    fc2    = tf.matmul(fc1, fc2_W) + fc2_b\n",
    "    \n",
    "    # Activation.\n",
    "    fc2    = tf.nn.relu(fc2)\n",
    "\n",
    "    # Layer 5: Fully Connected. Input = 84. Output = 43.\n",
    "    fc3_W  = tf.Variable(tf.truncated_normal(shape=(full_2, full_3), mean = mu, stddev = sigma))\n",
    "    fc3_b  = tf.Variable(tf.zeros(full_3))\n",
    "    logits = tf.matmul(fc2, fc3_W) + fc3_b\n",
    "    \n",
    "    return logits"
   ]
  },
  {
   "cell_type": "code",
   "execution_count": 6,
   "metadata": {
    "ExecuteTime": {
     "end_time": "2018-04-01T17:29:35.713240Z",
     "start_time": "2018-04-01T17:29:31.893Z"
    }
   },
   "outputs": [
    {
     "name": "stdout",
     "output_type": "stream",
     "text": [
      "Training...\n",
      "\n",
      "EPOCH 1 ...\n",
      "Validation Accuracy = 0.586\n",
      "\n",
      "EPOCH 2 ...\n",
      "Validation Accuracy = 0.783\n",
      "\n",
      "EPOCH 3 ...\n",
      "Validation Accuracy = 0.845\n",
      "\n",
      "EPOCH 4 ...\n",
      "Validation Accuracy = 0.873\n",
      "\n",
      "EPOCH 5 ...\n",
      "Validation Accuracy = 0.895\n",
      "\n",
      "EPOCH 6 ...\n",
      "Validation Accuracy = 0.896\n",
      "\n",
      "EPOCH 7 ...\n",
      "Validation Accuracy = 0.903\n",
      "\n",
      "EPOCH 8 ...\n",
      "Validation Accuracy = 0.917\n",
      "\n",
      "EPOCH 9 ...\n",
      "Validation Accuracy = 0.920\n",
      "\n",
      "EPOCH 10 ...\n",
      "Validation Accuracy = 0.927\n",
      "\n",
      "EPOCH 11 ...\n",
      "Validation Accuracy = 0.931\n",
      "\n",
      "EPOCH 12 ...\n",
      "Validation Accuracy = 0.924\n",
      "\n",
      "EPOCH 13 ...\n",
      "Validation Accuracy = 0.930\n",
      "\n",
      "EPOCH 14 ...\n",
      "Validation Accuracy = 0.936\n",
      "\n",
      "EPOCH 15 ...\n",
      "Validation Accuracy = 0.932\n",
      "\n",
      "EPOCH 16 ...\n",
      "Validation Accuracy = 0.938\n",
      "\n",
      "EPOCH 17 ...\n",
      "Validation Accuracy = 0.943\n",
      "\n",
      "EPOCH 18 ...\n",
      "Validation Accuracy = 0.942\n",
      "\n",
      "EPOCH 19 ...\n",
      "Validation Accuracy = 0.936\n",
      "\n",
      "EPOCH 20 ...\n",
      "Validation Accuracy = 0.936\n",
      "\n",
      "Model saved\n"
     ]
    }
   ],
   "source": [
    "## super-parameters\n",
    "rate = 0.001\n",
    "EPOCHS = 20\n",
    "BATCH_SIZE = 512\n",
    "\n",
    "## TF logic for optimization \n",
    "x = tf.placeholder(tf.float32, (None, 32, 32, 3))\n",
    "y = tf.placeholder(tf.int32, (None))\n",
    "one_hot_y = tf.one_hot(y, 43)\n",
    "keep_prob_1 = tf.placeholder(tf.float32)\n",
    "keep_prob_2 = tf.placeholder(tf.float32)\n",
    "\n",
    "logits = LeNet(x, keep_prob_1, keep_prob_2)\n",
    "cross_entropy = tf.nn.softmax_cross_entropy_with_logits(labels=one_hot_y, logits=logits)\n",
    "loss_operation = tf.reduce_mean(cross_entropy)\n",
    "optimizer = tf.train.AdamOptimizer(learning_rate = rate)\n",
    "training_operation = optimizer.minimize(loss_operation)\n",
    "\n",
    "## TF logic for evaluation\n",
    "correct_prediction = tf.equal(tf.argmax(logits, 1), tf.argmax(one_hot_y, 1))\n",
    "accuracy_operation = tf.reduce_mean(tf.cast(correct_prediction, tf.float32))\n",
    "saver = tf.train.Saver()\n",
    "\n",
    "## have the dropout rate being 1.0 while inferring\n",
    "def evaluate(X_data, y_data):\n",
    "    num_examples = len(X_data)\n",
    "    total_accuracy = 0\n",
    "    sess = tf.get_default_session()\n",
    "    for offset in range(0, num_examples, BATCH_SIZE):\n",
    "        batch_x, batch_y = X_data[offset:offset+BATCH_SIZE], y_data[offset:offset+BATCH_SIZE]\n",
    "        accuracy = sess.run(accuracy_operation, feed_dict={x: batch_x, y: batch_y, keep_prob_1: 1.0, keep_prob_2: 1.0})\n",
    "        total_accuracy += (accuracy * len(batch_x))\n",
    "    return total_accuracy / num_examples\n",
    "\n",
    "## training/evaluation\n",
    "with tf.Session() as sess:\n",
    "    sess.run(tf.global_variables_initializer())\n",
    "    num_examples = len(X_train)\n",
    "    \n",
    "    print(\"Training...\")\n",
    "    print()\n",
    "    for i in range(EPOCHS):\n",
    "        X_train, y_train = shuffle(X_train, y_train)\n",
    "        for offset in range(0, num_examples, BATCH_SIZE):\n",
    "            end = offset + BATCH_SIZE\n",
    "            batch_x, batch_y = X_train[offset:end], y_train[offset:end]\n",
    "            sess.run(training_operation, feed_dict={x: batch_x, y: batch_y, keep_prob_1: 0.5, keep_prob_2: 0.8})\n",
    "            \n",
    "        validation_accuracy = evaluate(X_valid, y_valid)\n",
    "        print(\"EPOCH {} ...\".format(i+1))\n",
    "        print(\"Validation Accuracy = {:.3f}\".format(validation_accuracy))\n",
    "        print()\n",
    "        \n",
    "    saver.save(sess, './lenet')\n",
    "    print(\"Model saved\")"
   ]
  },
  {
   "cell_type": "code",
   "execution_count": 7,
   "metadata": {
    "ExecuteTime": {
     "end_time": "2018-04-01T17:29:35.714285Z",
     "start_time": "2018-04-01T17:29:31.894Z"
    }
   },
   "outputs": [
    {
     "name": "stdout",
     "output_type": "stream",
     "text": [
      "INFO:tensorflow:Restoring parameters from ./lenet\n",
      "Test Accuracy = 0.927\n"
     ]
    }
   ],
   "source": [
    "## prediction on test\n",
    "with tf.Session() as sess:\n",
    "    saver.restore(sess, tf.train.latest_checkpoint('.'))\n",
    "\n",
    "    test_accuracy = evaluate(X_test, y_test)\n",
    "    print(\"Test Accuracy = {:.3f}\".format(test_accuracy))"
   ]
  },
  {
   "cell_type": "code",
   "execution_count": 17,
   "metadata": {
    "ExecuteTime": {
     "end_time": "2018-04-01T17:29:35.715104Z",
     "start_time": "2018-04-01T17:29:31.895Z"
    }
   },
   "outputs": [
    {
     "name": "stdout",
     "output_type": "stream",
     "text": [
      "\n",
      "Shape of images from web: \n",
      "(5, 32, 32, 3)\n",
      "\n",
      "Visualization for the new images from web: \n"
     ]
    },
    {
     "data": {
      "image/png": "[encoded data removed]",
      "text/plain": [
       "<matplotlib.figure.Figure at 0x7f725c3cfdd8>"
      ]
     },
     "metadata": {},
     "output_type": "display_data"
    },
    {
     "name": "stdout",
     "output_type": "stream",
     "text": [
      "Label 3\n"
     ]
    },
    {
     "data": {
      "image/png": "[encoded data removed]",
      "text/plain": [
       "<matplotlib.figure.Figure at 0x7f725c479438>"
      ]
     },
     "metadata": {},
     "output_type": "display_data"
    },
    {
     "name": "stdout",
     "output_type": "stream",
     "text": [
      "Label 34\n"
     ]
    },
    {
     "data": {
      "image/png": "[encoded data removed]",
      "text/plain": [
       "<matplotlib.figure.Figure at 0x7f725c442cc0>"
      ]
     },
     "metadata": {},
     "output_type": "display_data"
    },
    {
     "name": "stdout",
     "output_type": "stream",
     "text": [
      "Label 4\n"
     ]
    },
    {
     "data": {
      "image/png": "[encoded data removed]",
      "text/plain": [
       "<matplotlib.figure.Figure at 0x7f727c3a3e48>"
      ]
     },
     "metadata": {},
     "output_type": "display_data"
    },
    {
     "name": "stdout",
     "output_type": "stream",
     "text": [
      "Label 14\n"
     ]
    },
    {
     "data": {
      "image/png": "[encoded data removed]",
      "text/plain": [
       "<matplotlib.figure.Figure at 0x7f725c5c35f8>"
      ]
     },
     "metadata": {},
     "output_type": "display_data"
    },
    {
     "name": "stdout",
     "output_type": "stream",
     "text": [
      "Label 6\n",
      "INFO:tensorflow:Restoring parameters from ./lenet\n",
      "\n",
      "Top-5 softmax probabilities for new images from web: \n",
      "[[  8.99228036e-01   9.60400254e-02   2.63314345e-03   7.32426124e-04\n",
      "    4.93377680e-04]\n",
      " [  9.77702558e-01   2.11799908e-02   1.06660731e-03   2.01061521e-05\n",
      "    7.37569781e-06]\n",
      " [  3.79819572e-01   1.60794437e-01   1.25916675e-01   1.17661886e-01\n",
      "    4.63281013e-02]\n",
      " [  4.61661071e-01   2.71957219e-01   8.35748166e-02   6.78475797e-02\n",
      "    6.69432059e-02]\n",
      " [  1.61182880e-01   1.05243079e-01   8.85063410e-02   7.30672851e-02\n",
      "    6.29977733e-02]]\n",
      "\n",
      "Predicted labels for new images from web: \n",
      "[[ 3  5  2  7  1]\n",
      " [14 17 12 25 13]\n",
      " [22 23 19 25 26]\n",
      " [ 5  2  3 40 37]\n",
      " [23 28 31 29 25]]\n"
     ]
    }
   ],
   "source": [
    "## analysis on new images downloaded on the web with top-k softmax probabilities\n",
    "softmax = tf.nn.softmax(logits)\n",
    "\n",
    "img_names = ['speed_limit_60', 'turn_left', 'speed_limit_70', 'stop', 'end_of_speed']\n",
    "labels_web = [3, 34, 4, 14, 6]\n",
    "img_web = []\n",
    "for i in range(len(img_names)):\n",
    "    img = cv2.imread('%s.jpg' % img_names[i])\n",
    "    img_web.append(cv2.resize(img, (32, 32)).tolist())\n",
    "img_web = np.array(img_web).astype(np.uint8)\n",
    "print('\\nShape of images from web: ')\n",
    "print(img_web.shape)\n",
    "\n",
    "print('\\nVisualization for the new images from web: ')\n",
    "for i in range(len(img_web)):\n",
    "    plot(img_web[i])\n",
    "    plt.imsave('%s_resized.jpg' % img_names[i], img_web[i])\n",
    "    print('Label %s' % labels_web[i])\n",
    "    \n",
    "k = 5\n",
    "with tf.Session() as sess:\n",
    "    saver.restore(sess, tf.train.latest_checkpoint('.'))\n",
    "    \n",
    "    pred_y = sess.run(softmax, feed_dict={x: img_web, keep_prob_1: 1.0, keep_prob_2: 1.0})\n",
    "    topk = sess.run(tf.nn.top_k(tf.constant(pred_y), k= k))\n",
    "    \n",
    "    ## top-k softmax value\n",
    "    print('\\nTop-%s softmax probabilities for new images from web: ' % k)\n",
    "    print(topk.values)\n",
    "    print('\\nPredicted labels for new images from web: ')\n",
    "    print(topk.indices)"
   ]
  },
  {
   "cell_type": "code",
   "execution_count": 15,
   "metadata": {
    "ExecuteTime": {
     "end_time": "2018-04-01T17:29:35.716348Z",
     "start_time": "2018-04-01T17:29:31.896Z"
    }
   },
   "outputs": [
    {
     "name": "stdout",
     "output_type": "stream",
     "text": [
      "Total size for test 12630 \n",
      "INFO:tensorflow:Restoring parameters from ./lenet\n",
      "\n",
      "Recall for labels with the top-10 lowest recall: \n",
      "[ 0.77333331  0.77333331  0.89111114  0.90793651  0.91666669  0.9311111\n",
      "  0.94242424  0.94583333  0.972       0.97500002]\n",
      "\n",
      "Labels with the top-10 lowest recall: \n",
      "[27 21 30 24  6  7 18 40 28 37]\n",
      "INFO:tensorflow:Restoring parameters from ./lenet\n",
      "\n",
      "Debugging for label 30: \n",
      "\n",
      "Index of truth postive: \n",
      "[   41    72   114   127   237   287   443   496   501   587   620   723\n",
      "   749   883  1025  1096  1214  1402  1422  1514  1524  1582  1697  1709\n",
      "  1713  1824  1976  2072  2109  2288  2360  2361  2599  2600  2655  2660\n",
      "  2682  2760  2864  2993  3025  3043  3049  3273  3387  3567  3745  3778\n",
      "  3782  3799  4011  4069  4070  4133  4367  4383  4509  4511  4525  4579\n",
      "  4639  4833  4953  4985  5280  5313  5363  5779  5802  5806  5824  5851\n",
      "  6004  6090  6139  6146  6310  6458  6487  6529  6603  6658  6836  7072\n",
      "  7081  7090  7115  7246  7255  7400  7439  7448  7461  7525  7559  7693\n",
      "  7700  7811  7884  7907  7977  8063  8126  8348  8510  8549  8624  8705\n",
      "  8722  8818  8824  8826  8974  9140  9170  9246  9335  9411  9661  9692\n",
      "  9769 10016 10223 10264 10297 10489 10584 10659 10825 10968 11012 11074\n",
      " 11173 11410 11435 11439 11451 11495 11564 11617 11634 11709 11746 11830\n",
      " 11904 11925 12252 12346 12476 12563]\n",
      "\n",
      "Index of predicted positive: \n",
      "[   41    72   443   501   587   620   883  1025  1078  1096  1209  1214\n",
      "  1228  1514  1524  1582  1709  1713  1824  1976  2003  2072  2288  2357\n",
      "  2360  2361  2599  2600  2655  2760  2921  2996  3025  3043  3049  3142\n",
      "  3256  3273  3490  3580  3626  3719  3725  3745  3752  3782  4069  4070\n",
      "  4415  4509  4511  4525  4639  4819  4985  5165  5280  5313  5519  5597\n",
      "  5802  5806  5824  5838  5851  5883  6146  6483  6529  6603  6658  6836\n",
      "  6838  7044  7072  7081  7090  7115  7203  7400  7439  7448  7559  7633\n",
      "  7700  7811  7884  7907  7977  7993  8063  8297  8348  8549  8705  8824\n",
      "  8826  9026  9064  9068  9140  9185  9506  9661  9769  9797 10016 10124\n",
      " 10223 10489 10659 10782 10825 10968 11012 11312 11410 11439 11495 11617\n",
      " 11634 11709 11746 11830 11904 11925 12229 12476 12537]\n",
      "\n",
      "Size of misclassified label 30 is 61: \n",
      "\n",
      "Index of misclassified positive: \n",
      "[114, 127, 237, 287, 496, 723, 749, 1402, 1422, 1697, 2109, 2660, 2682, 2864, 2993, 3387, 3567, 3778, 3799, 4011, 4133, 4367, 4383, 4579, 4833, 4953, 5363, 5779, 6004, 6090, 6139, 6310, 6458, 6487, 7246, 7255, 7461, 7525, 7693, 8126, 8510, 8624, 8722, 8818, 8974, 9170, 9246, 9335, 9411, 9692, 10264, 10297, 10584, 11074, 11173, 11435, 11451, 11564, 12252, 12346, 12563]\n",
      "\n",
      "Misclassified label for label 30: \n",
      "[11 20 31 31 11 11 29 31 19 28 25 29 20 20 24 11 18 20 20 20 27 11 20 20 29\n",
      " 20 20 29 20 20 11  8 11 11 20 20 29 20 20 28 20 10 28 20 23 19 20 20 10 20\n",
      " 11 11 20 29 20 31 20 31 20 20 20]\n"
     ]
    },
    {
     "data": {
      "image/png": "[encoded data removed]",
      "text/plain": [
       "<matplotlib.figure.Figure at 0x7f727c471f60>"
      ]
     },
     "metadata": {},
     "output_type": "display_data"
    },
    {
     "name": "stdout",
     "output_type": "stream",
     "text": [
      "predicted label 20\n"
     ]
    },
    {
     "data": {
      "image/png": "[encoded data removed]",
      "text/plain": [
       "<matplotlib.figure.Figure at 0x7f727c414a58>"
      ]
     },
     "metadata": {},
     "output_type": "display_data"
    },
    {
     "name": "stdout",
     "output_type": "stream",
     "text": [
      "predicted label 31\n"
     ]
    },
    {
     "data": {
      "image/png": "[encoded data removed]",
      "text/plain": [
       "<matplotlib.figure.Figure at 0x7f727c3da940>"
      ]
     },
     "metadata": {},
     "output_type": "display_data"
    },
    {
     "name": "stdout",
     "output_type": "stream",
     "text": [
      "predicted label 20\n"
     ]
    },
    {
     "data": {
      "image/png": "[encoded data removed]",
      "text/plain": [
       "<matplotlib.figure.Figure at 0x7f727c3a3dd8>"
      ]
     },
     "metadata": {},
     "output_type": "display_data"
    },
    {
     "name": "stdout",
     "output_type": "stream",
     "text": [
      "predicted label 20\n"
     ]
    },
    {
     "data": {
      "image/png": "[encoded data removed]",
      "text/plain": [
       "<matplotlib.figure.Figure at 0x7f727c35f908>"
      ]
     },
     "metadata": {},
     "output_type": "display_data"
    },
    {
     "name": "stdout",
     "output_type": "stream",
     "text": [
      "predicted label 20\n"
     ]
    }
   ],
   "source": [
    "## analysis with top-k lowest recall for individual labels\n",
    "one_hot_pred = tf.one_hot(tf.argmax(softmax, 1), 43)\n",
    "# y_pred_equal = tf.equal(one_hot_y, one_hot_pred)\n",
    "y_pred_mult = tf.multiply(one_hot_y, one_hot_pred)\n",
    "tp = tf.reduce_sum(y_pred_mult, 0)\n",
    "t_n = tf.reduce_sum(one_hot_y, 0)\n",
    "\n",
    "# collect top-k labels with lowest recall\n",
    "k = 10\n",
    "num_examples = len(X_test)\n",
    "print('Total size for test %s ' % num_examples)\n",
    "with tf.Session() as sess:\n",
    "    saver.restore(sess, tf.train.latest_checkpoint('.'))\n",
    "    sess.run(tf.local_variables_initializer())\n",
    "\n",
    "    for offset in range(0, num_examples, BATCH_SIZE):\n",
    "        batch_x = X_test[offset: offset + BATCH_SIZE]\n",
    "        batch_y = y_test[offset: offset + BATCH_SIZE]\n",
    "        if(offset == 0):\n",
    "            tp_mat = sess.run(tp, feed_dict={x: batch_x, y: batch_y, keep_prob_1: 1.0, keep_prob_2: 1.0})\n",
    "            t_n_mat = sess.run(t_n, feed_dict={y: batch_y})\n",
    "        else:\n",
    "            tp_mat = np.vstack([tp_mat, sess.run(tp, feed_dict={x: batch_x, y: batch_y, keep_prob_1: 1.0, keep_prob_2: 1.0})])\n",
    "            t_n_mat = np.vstack([t_n_mat, sess.run(t_n, feed_dict={y: batch_y})])\n",
    "    individual_recall = np.sum(tp_mat, 0) / np.sum(t_n_mat, 0)\n",
    "    print('\\nRecall for labels with the top-%s lowest recall: ' % k)\n",
    "    topk_recall = np.sort(individual_recall[:k])\n",
    "    print(topk_recall)\n",
    "    print('\\nLabels with the top-%s lowest recall: ' % k)\n",
    "    topk_label = np.argsort(individual_recall)[:k]\n",
    "    print(topk_label)   \n",
    "# visualize some of these misclassified image\n",
    "with tf.Session() as sess:\n",
    "    saver.restore(sess, tf.train.latest_checkpoint('.'))\n",
    "    \n",
    "    pred_mat = sess.run(one_hot_pred, feed_dict= {x: X_test, keep_prob_1: 1.0, keep_prob_2: 1.0})\n",
    "    y_mat = sess.run(one_hot_y, feed_dict={y: y_test}) \n",
    "    y_pred_mult_mat = np.multiply(pred_mat, y_mat)\n",
    "    # for label 27\n",
    "    debug_label = 30\n",
    "    print('\\nDebugging for label %s: ' % debug_label)\n",
    "    pos_idx = np.argwhere(np.transpose(y_mat[:, debug_label]) == 1).flatten()\n",
    "    pred_pos_idx = np.argwhere(np.transpose(pred_mat[:, debug_label]) == 1).flatten()\n",
    "    print('\\nIndex of truth postive: ')\n",
    "    print(pos_idx)\n",
    "    print('\\nIndex of predicted positive: ')\n",
    "    print(pred_pos_idx)\n",
    "    mis_pos_idx = [v for v in pos_idx if(v not in pred_pos_idx)]\n",
    "    print('\\nSize of misclassified label %s is %s: ' % (debug_label, len(mis_pos_idx)))\n",
    "    print('\\nIndex of misclassified positive: ')\n",
    "    print(mis_pos_idx)\n",
    "    mis_pred_label = np.argmax(pred_mat[mis_pos_idx,:], 1)\n",
    "    print('\\nMisclassified label for label %s: ' % debug_label)\n",
    "    print(mis_pred_label)\n",
    "    # sample the last 10 misclassified image, visualize them, see what characters they reside\n",
    "    s = 5\n",
    "    for i in range(s):\n",
    "        img = X_test[mis_pos_idx[-(s - i)]].squeeze()\n",
    "        plot(img)\n",
    "        print('predicted label %s' % mis_pred_label[- (s - i)])\n",
    "        \n",
    "## notable charactertics of misclassified labels\n",
    "# 1. darkness seems like a pretty common feature within all kinds of images, assuming these images were captured at night\n",
    "# 2. noising pixels, assuming these signs were damaged in some way\n",
    "# 3. scale size, assuming these images were captured with different angle and distance\n",
    "## improvement augmentation strategies\n",
    "# 1. brightenness for images\n",
    "# 2. add perputation noise\n",
    "# 3. zoom(scale) in/out for images"
   ]
  },
  {
   "cell_type": "code",
   "execution_count": null,
   "metadata": {
    "collapsed": true
   },
   "outputs": [],
   "source": []
  }
 ],
 "metadata": {
  "kernelspec": {
   "display_name": "Python 3",
   "language": "python",
   "name": "python3"
  },
  "language_info": {
   "codemirror_mode": {
    "name": "ipython",
    "version": 3
   },
   "file_extension": ".py",
   "mimetype": "text/x-python",
   "name": "python",
   "nbconvert_exporter": "python",
   "pygments_lexer": "ipython3",
   "version": "3.6.3"
  },
  "varInspector": {
   "cols": {
    "lenName": 16,
    "lenType": 16,
    "lenVar": 40
   },
   "kernels_config": {
    "python": {
     "delete_cmd_postfix": "",
     "delete_cmd_prefix": "del ",
     "library": "var_list.py",
     "varRefreshCmd": "print(var_dic_list())"
    },
    "r": {
     "delete_cmd_postfix": ") ",
     "delete_cmd_prefix": "rm(",
     "library": "var_list.r",
     "varRefreshCmd": "cat(var_dic_list()) "
    }
   },
   "types_to_exclude": [
    "module",
    "function",
    "builtin_function_or_method",
    "instance",
    "_Feature"
   ],
   "window_display": false
  }
 },
 "nbformat": 4,
 "nbformat_minor": 2
}
