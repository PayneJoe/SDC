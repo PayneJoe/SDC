{
 "cells": [
  {
   "cell_type": "code",
   "execution_count": 21,
   "metadata": {
    "ExecuteTime": {
     "end_time": "2018-03-28T09:12:00.013405Z",
     "start_time": "2018-03-28T09:12:00.006684Z"
    },
    "collapsed": true
   },
   "outputs": [],
   "source": [
    "import pickle\n",
    "import pandas as pd\n",
    "import numpy as np\n",
    "import random\n",
    "import matplotlib.pyplot as plt\n",
    "from sklearn.utils import shuffle\n",
    "%matplotlib inline"
   ]
  },
  {
   "cell_type": "code",
   "execution_count": 22,
   "metadata": {
    "ExecuteTime": {
     "end_time": "2018-03-28T09:12:00.211184Z",
     "start_time": "2018-03-28T09:12:00.015213Z"
    },
    "collapsed": true
   },
   "outputs": [],
   "source": [
    "## Load pickled data\n",
    "training_file = 'train.p'\n",
    "validation_file= 'valid.p'\n",
    "testing_file = 'test.p'\n",
    "\n",
    "with open(training_file, mode='rb') as f:\n",
    "    train = pickle.load(f)\n",
    "with open(validation_file, mode='rb') as f:\n",
    "    valid = pickle.load(f)\n",
    "with open(testing_file, mode='rb') as f:\n",
    "    test = pickle.load(f)\n",
    "    \n",
    "X_train, y_train = train['features'], train['labels']\n",
    "X_valid, y_valid = valid['features'], valid['labels']\n",
    "X_test, y_test = test['features'], test['labels']"
   ]
  },
  {
   "cell_type": "code",
   "execution_count": 23,
   "metadata": {
    "ExecuteTime": {
     "end_time": "2018-03-28T09:12:00.226827Z",
     "start_time": "2018-03-28T09:12:00.213766Z"
    }
   },
   "outputs": [
    {
     "name": "stdout",
     "output_type": "stream",
     "text": [
      "Number of training examples = 34799\n",
      "Number of validation examples = 4410\n",
      "Number of testing examples = 12630\n",
      "Image data shape = (32, 32, 3)\n",
      "Number of classes = 43\n"
     ]
    }
   ],
   "source": [
    "## basic info of data sets\n",
    "# Number of training examples\n",
    "n_train = X_train.shape[0]\n",
    "\n",
    "# Number of validation examples\n",
    "n_validation = X_valid.shape[0]\n",
    "\n",
    "# Number of testing examples.\n",
    "n_test = X_test.shape[0]\n",
    "\n",
    "# What's the shape of an traffic sign image?\n",
    "image_shape = X_train[0].shape\n",
    "\n",
    "# How many unique classes/labels there are in the dataset.\n",
    "n_classes = len(np.unique(y_train))\n",
    "\n",
    "print(\"Number of training examples =\", n_train)\n",
    "print(\"Number of validation examples =\", n_validation)\n",
    "print(\"Number of testing examples =\", n_test)\n",
    "print(\"Image data shape =\", image_shape)\n",
    "print(\"Number of classes =\", n_classes)"
   ]
  },
  {
   "cell_type": "code",
   "execution_count": 24,
   "metadata": {
    "ExecuteTime": {
     "end_time": "2018-03-28T09:12:00.304293Z",
     "start_time": "2018-03-28T09:12:00.228456Z"
    }
   },
   "outputs": [
    {
     "name": "stdout",
     "output_type": "stream",
     "text": [
      "1\n"
     ]
    },
    {
     "data": {
      "image/png": "[encoded data removed]",
      "text/plain": [
       "<matplotlib.figure.Figure at 0x7fea95c224a8>"
      ]
     },
     "metadata": {},
     "output_type": "display_data"
    }
   ],
   "source": [
    "## visualization for image\n",
    "\n",
    "index = random.randint(0, len(X_train))\n",
    "image = X_train[index].squeeze()\n",
    "\n",
    "plt.figure(figsize=(1,1))\n",
    "plt.imshow(image, cmap=\"gray\")\n",
    "print(y_train[index])"
   ]
  },
  {
   "cell_type": "code",
   "execution_count": 25,
   "metadata": {
    "ExecuteTime": {
     "end_time": "2018-03-28T09:12:00.443448Z",
     "start_time": "2018-03-28T09:12:00.306037Z"
    },
    "collapsed": true
   },
   "outputs": [],
   "source": [
    "## LE-Net architechure\n",
    "import tensorflow as tf\n",
    "from tensorflow.contrib.layers import flatten\n",
    "\n",
    "def LeNet(x):    \n",
    "    # Arguments used for tf.truncated_normal, randomly defines variables for the weights and biases for each layer\n",
    "    mu = 0\n",
    "    sigma = 0.1\n",
    "    \n",
    "    # SOLUTION: Layer 1: Convolutional. Input = 32x32x3. \n",
    "    # out_height = (32 - 5 + 1)/1 = 28,\n",
    "    # out_width = (32 - 5 + 1)/1 = 28,\n",
    "    # out_depth = 6(tunned)\n",
    "    # Output = 28 * 28 * 6\n",
    "    conv1_W = tf.Variable(tf.truncated_normal(shape=(5, 5, 3, 6), mean = mu, stddev = sigma))\n",
    "    conv1_b = tf.Variable(tf.zeros(6))\n",
    "    conv1   = tf.nn.conv2d(x, conv1_W, strides=[1, 1, 1, 1], padding='VALID') + conv1_b\n",
    "\n",
    "    # SOLUTION: Activation.\n",
    "    conv1 = tf.nn.relu(conv1)\n",
    "\n",
    "    # SOLUTION: Pooling. Input = 28x28x6. \n",
    "    # out_height = (28 - 2 + 2)/2 = 14,\n",
    "    # out_width = (28 - 2 + 2)/2 = 14,\n",
    "    # out_depth = 6(handed by conv1)\n",
    "    # Output = 14x14x6.\n",
    "    conv1 = tf.nn.max_pool(conv1, ksize=[1, 2, 2, 1], strides=[1, 2, 2, 1], padding='VALID')\n",
    "\n",
    "    # SOLUTION: Layer 2: Convolutional. \n",
    "    # out_height = (14 - 5 + 1)/1 = 10,\n",
    "    # out_width = (14 - 5 + 1)/1 = 10,\n",
    "    # out_depth = 16(tunned)\n",
    "    # Output = 10x10x16.\n",
    "    conv2_W = tf.Variable(tf.truncated_normal(shape=(5, 5, 6, 16), mean = mu, stddev = sigma))\n",
    "    conv2_b = tf.Variable(tf.zeros(16))\n",
    "    conv2   = tf.nn.conv2d(conv1, conv2_W, strides=[1, 1, 1, 1], padding='VALID') + conv2_b\n",
    "    \n",
    "    # SOLUTION: Activation.\n",
    "    conv2 = tf.nn.relu(conv2)\n",
    "\n",
    "    # SOLUTION: Pooling. Input = 10x10x16. \n",
    "    # out_height = (10 - 2 + 2)/2 = 5,\n",
    "    # out_width = (10 - 2 + 2)/2 = 5,\n",
    "    # out_depth = 16(handed by conv2)\n",
    "    # Output = 5x5x16.\n",
    "    conv2 = tf.nn.max_pool(conv2, ksize=[1, 2, 2, 1], strides=[1, 2, 2, 1], padding='VALID')\n",
    "\n",
    "    # SOLUTION: Flatten. Input = 5x5x16.\n",
    "    # Output = 5 * 5 * 16 = 400.\n",
    "    fc0   = flatten(conv2)\n",
    "    \n",
    "    # SOLUTION: Layer 3: Fully Connected. Input = 400. Output = 120.\n",
    "    fc1_W = tf.Variable(tf.truncated_normal(shape=(400, 120), mean = mu, stddev = sigma))\n",
    "    fc1_b = tf.Variable(tf.zeros(120))\n",
    "    fc1   = tf.matmul(fc0, fc1_W) + fc1_b\n",
    "    \n",
    "    # SOLUTION: Activation.\n",
    "    fc1    = tf.nn.relu(fc1)\n",
    "\n",
    "    # SOLUTION: Layer 4: Fully Connected. Input = 120. Output = 84.\n",
    "    fc2_W  = tf.Variable(tf.truncated_normal(shape=(120, 84), mean = mu, stddev = sigma))\n",
    "    fc2_b  = tf.Variable(tf.zeros(84))\n",
    "    fc2    = tf.matmul(fc1, fc2_W) + fc2_b\n",
    "    \n",
    "    # SOLUTION: Activation.\n",
    "    fc2    = tf.nn.relu(fc2)\n",
    "\n",
    "    # SOLUTION: Layer 5: Fully Connected. Input = 84. Output = 43.\n",
    "    fc3_W  = tf.Variable(tf.truncated_normal(shape=(84, 43), mean = mu, stddev = sigma))\n",
    "    fc3_b  = tf.Variable(tf.zeros(43))\n",
    "    logits = tf.matmul(fc2, fc3_W) + fc3_b\n",
    "    \n",
    "    return logits"
   ]
  },
  {
   "cell_type": "code",
   "execution_count": 26,
   "metadata": {
    "ExecuteTime": {
     "end_time": "2018-03-28T09:15:04.336367Z",
     "start_time": "2018-03-28T09:12:00.445361Z"
    }
   },
   "outputs": [
    {
     "name": "stdout",
     "output_type": "stream",
     "text": [
      "Training...\n",
      "\n",
      "EPOCH 1 ...\n",
      "Validation Accuracy = 0.809\n",
      "\n",
      "EPOCH 2 ...\n",
      "Validation Accuracy = 0.862\n",
      "\n",
      "EPOCH 3 ...\n",
      "Validation Accuracy = 0.877\n",
      "\n",
      "EPOCH 4 ...\n",
      "Validation Accuracy = 0.880\n",
      "\n",
      "EPOCH 5 ...\n",
      "Validation Accuracy = 0.896\n",
      "\n",
      "EPOCH 6 ...\n",
      "Validation Accuracy = 0.901\n",
      "\n",
      "EPOCH 7 ...\n",
      "Validation Accuracy = 0.900\n",
      "\n",
      "EPOCH 8 ...\n",
      "Validation Accuracy = 0.913\n",
      "\n",
      "EPOCH 9 ...\n",
      "Validation Accuracy = 0.895\n",
      "\n",
      "EPOCH 10 ...\n",
      "Validation Accuracy = 0.892\n",
      "\n",
      "Model saved\n"
     ]
    }
   ],
   "source": [
    "## super-parameters\n",
    "rate = 0.001\n",
    "EPOCHS = 10\n",
    "BATCH_SIZE = 64\n",
    "\n",
    "## TF logic for optimization \n",
    "x = tf.placeholder(tf.float32, (None, 32, 32, 3))\n",
    "y = tf.placeholder(tf.int32, (None))\n",
    "one_hot_y = tf.one_hot(y, 43)\n",
    "\n",
    "logits = LeNet(x)\n",
    "cross_entropy = tf.nn.softmax_cross_entropy_with_logits(labels=one_hot_y, logits=logits)\n",
    "loss_operation = tf.reduce_mean(cross_entropy)\n",
    "optimizer = tf.train.AdamOptimizer(learning_rate = rate)\n",
    "training_operation = optimizer.minimize(loss_operation)\n",
    "\n",
    "## TF logic for evaluation\n",
    "correct_prediction = tf.equal(tf.argmax(logits, 1), tf.argmax(one_hot_y, 1))\n",
    "accuracy_operation = tf.reduce_mean(tf.cast(correct_prediction, tf.float32))\n",
    "saver = tf.train.Saver()\n",
    "\n",
    "def evaluate(X_data, y_data):\n",
    "    num_examples = len(X_data)\n",
    "    total_accuracy = 0\n",
    "    sess = tf.get_default_session()\n",
    "    for offset in range(0, num_examples, BATCH_SIZE):\n",
    "        batch_x, batch_y = X_data[offset:offset+BATCH_SIZE], y_data[offset:offset+BATCH_SIZE]\n",
    "        accuracy = sess.run(accuracy_operation, feed_dict={x: batch_x, y: batch_y})\n",
    "        total_accuracy += (accuracy * len(batch_x))\n",
    "    return total_accuracy / num_examples\n",
    "\n",
    "## training/evaluation\n",
    "with tf.Session() as sess:\n",
    "    sess.run(tf.global_variables_initializer())\n",
    "    num_examples = len(X_train)\n",
    "    \n",
    "    print(\"Training...\")\n",
    "    print()\n",
    "    for i in range(EPOCHS):\n",
    "        X_train, y_train = shuffle(X_train, y_train)\n",
    "        for offset in range(0, num_examples, BATCH_SIZE):\n",
    "            end = offset + BATCH_SIZE\n",
    "            batch_x, batch_y = X_train[offset:end], y_train[offset:end]\n",
    "            sess.run(training_operation, feed_dict={x: batch_x, y: batch_y})\n",
    "            \n",
    "        validation_accuracy = evaluate(X_valid, y_valid)\n",
    "        print(\"EPOCH {} ...\".format(i+1))\n",
    "        print(\"Validation Accuracy = {:.3f}\".format(validation_accuracy))\n",
    "        print()\n",
    "        \n",
    "    saver.save(sess, './lenet')\n",
    "    print(\"Model saved\")"
   ]
  },
  {
   "cell_type": "code",
   "execution_count": 27,
   "metadata": {
    "ExecuteTime": {
     "end_time": "2018-03-28T09:15:06.475826Z",
     "start_time": "2018-03-28T09:15:04.337875Z"
    }
   },
   "outputs": [
    {
     "name": "stdout",
     "output_type": "stream",
     "text": [
      "INFO:tensorflow:Restoring parameters from ./lenet\n",
      "Test Accuracy = 0.885\n"
     ]
    }
   ],
   "source": [
    "## prediction on test\n",
    "with tf.Session() as sess:\n",
    "    saver.restore(sess, tf.train.latest_checkpoint('.'))\n",
    "\n",
    "    test_accuracy = evaluate(X_test, y_test)\n",
    "    print(\"Test Accuracy = {:.3f}\".format(test_accuracy))"
   ]
  },
  {
   "cell_type": "code",
   "execution_count": 46,
   "metadata": {},
   "outputs": [
    {
     "name": "stdout",
     "output_type": "stream",
     "text": [
      "12630\n",
      "INFO:tensorflow:Restoring parameters from ./lenet\n",
      "[[  1.00000000e+00   5.74623416e-26   1.21370478e-27   1.65265204e-28\n",
      "    1.92243318e-29]\n",
      " [  1.00000000e+00   5.45113390e-15   5.91565746e-16   3.01576684e-17\n",
      "    2.05050099e-19]\n",
      " [  1.00000000e+00   0.00000000e+00   0.00000000e+00   0.00000000e+00\n",
      "    0.00000000e+00]\n",
      " [  1.00000000e+00   1.28475798e-11   1.27407678e-15   1.29679664e-19\n",
      "    3.37862065e-24]\n",
      " [  1.00000000e+00   1.83112512e-08   4.81564701e-12   3.08051355e-13\n",
      "    6.08143771e-14]\n",
      " [  1.00000000e+00   5.69072802e-30   3.33321812e-36   8.12095564e-38\n",
      "    0.00000000e+00]\n",
      " [  1.00000000e+00   2.81002508e-19   3.15331508e-27   6.30080694e-33\n",
      "    3.72345405e-37]\n",
      " [  1.00000000e+00   5.53925836e-15   2.17251494e-17   2.33253611e-19\n",
      "    6.83981884e-20]\n",
      " [  1.00000000e+00   1.24404861e-10   1.39776848e-15   5.28077232e-18\n",
      "    4.10112343e-18]\n",
      " [  1.00000000e+00   1.87596490e-16   7.60200955e-21   2.89271223e-23\n",
      "    5.78702444e-24]\n",
      " [  9.28750396e-01   6.93784952e-02   1.68437616e-03   1.83715179e-04\n",
      "    1.29610316e-06]\n",
      " [  1.00000000e+00   3.41203172e-12   2.55405197e-19   1.86434787e-19\n",
      "    6.64174093e-25]\n",
      " [  4.33961302e-01   3.00842404e-01   1.35750651e-01   2.35218238e-02\n",
      "    1.90939419e-02]\n",
      " [  8.23762298e-01   8.52292702e-02   3.27199176e-02   1.89707503e-02\n",
      "    1.50257228e-02]\n",
      " [  1.00000000e+00   5.34419904e-12   5.84008157e-13   1.35830461e-13\n",
      "    1.02744847e-19]\n",
      " [  1.00000000e+00   7.16155081e-16   1.06043868e-20   5.11005970e-21\n",
      "    2.58757848e-21]\n",
      " [  1.00000000e+00   4.89835239e-09   4.08171053e-09   5.68026681e-10\n",
      "    2.40081714e-14]\n",
      " [  9.99819100e-01   1.80928182e-04   8.53952326e-11   7.30235371e-13\n",
      "    5.50956199e-13]\n",
      " [  9.12795603e-01   8.70606601e-02   1.43706740e-04   8.80130604e-12\n",
      "    2.98416619e-13]\n",
      " [  1.00000000e+00   0.00000000e+00   0.00000000e+00   0.00000000e+00\n",
      "    0.00000000e+00]\n",
      " [  9.99995947e-01   4.00576619e-06   4.32064695e-08   9.52051948e-09\n",
      "    4.61043675e-10]\n",
      " [  1.00000000e+00   5.22389750e-23   3.88436490e-24   1.02987477e-24\n",
      "    1.14843012e-25]\n",
      " [  1.00000000e+00   1.40480461e-09   1.19738053e-10   1.47344729e-13\n",
      "    1.23774621e-13]\n",
      " [  5.52231312e-01   4.45411801e-01   1.29721593e-03   9.06802074e-04\n",
      "    1.20831159e-04]\n",
      " [  1.00000000e+00   6.06382882e-15   2.76567890e-19   6.73489745e-23\n",
      "    3.69141702e-24]\n",
      " [  1.00000000e+00   2.49269120e-18   8.42883974e-25   5.85342226e-27\n",
      "    2.20781946e-34]\n",
      " [  1.00000000e+00   1.87023397e-09   4.39035579e-11   2.32865602e-11\n",
      "    9.06274188e-12]\n",
      " [  9.99928117e-01   7.16322102e-05   2.83287761e-07   3.21590615e-10\n",
      "    2.38018744e-10]\n",
      " [  1.00000000e+00   2.65683255e-15   1.36337356e-17   3.01086220e-22\n",
      "    1.59092034e-24]\n",
      " [  1.00000000e+00   2.50512036e-19   9.63344558e-20   6.86098254e-21\n",
      "    3.80539150e-21]\n",
      " [  9.57684338e-01   4.23156209e-02   4.76426045e-08   1.20964263e-12\n",
      "    6.73297928e-18]\n",
      " [  1.00000000e+00   2.12659892e-23   1.86928622e-23   2.53581350e-24\n",
      "    1.78301773e-24]\n",
      " [  1.00000000e+00   8.63529269e-29   0.00000000e+00   0.00000000e+00\n",
      "    0.00000000e+00]\n",
      " [  2.68870264e-01   2.17464551e-01   1.95289478e-01   1.31219745e-01\n",
      "    7.48881102e-02]\n",
      " [  1.00000000e+00   2.57460916e-15   1.05294380e-15   7.70203300e-16\n",
      "    1.13983325e-23]\n",
      " [  1.00000000e+00   0.00000000e+00   0.00000000e+00   0.00000000e+00\n",
      "    0.00000000e+00]\n",
      " [  1.00000000e+00   3.92524768e-08   3.56481816e-10   7.30174859e-14\n",
      "    1.72671564e-18]\n",
      " [  9.76446033e-01   1.97432898e-02   3.80921131e-03   1.06659093e-06\n",
      "    3.53422706e-07]\n",
      " [  1.00000000e+00   3.72895985e-12   5.47923379e-16   5.12146659e-17\n",
      "    2.45335152e-19]\n",
      " [  3.37346792e-01   2.77715772e-01   1.33435100e-01   1.25199750e-01\n",
      "    4.37254906e-02]\n",
      " [  9.81220365e-01   1.52507210e-02   2.27946788e-03   9.94872651e-04\n",
      "    1.38052084e-04]\n",
      " [  8.95248294e-01   9.84440297e-02   5.95404906e-03   3.48655391e-04\n",
      "    1.91627532e-06]\n",
      " [  1.00000000e+00   1.48785579e-13   3.24327469e-20   1.52922865e-21\n",
      "    1.14716269e-21]\n",
      " [  9.99999881e-01   1.42779413e-07   1.04332765e-08   6.89613255e-09\n",
      "    5.13221421e-09]\n",
      " [  9.88360882e-01   1.16285449e-02   6.85746272e-06   2.18296509e-06\n",
      "    1.17144509e-06]\n",
      " [  9.99376714e-01   6.02985208e-04   2.02183728e-05   1.69966199e-07\n",
      "    3.35650192e-08]\n",
      " [  1.00000000e+00   1.22690369e-09   1.58414906e-10   6.05591272e-11\n",
      "    3.37276559e-14]\n",
      " [  1.00000000e+00   2.09692055e-17   5.05438277e-20   2.87229744e-20\n",
      "    5.67517166e-27]\n",
      " [  4.65308815e-01   2.79076606e-01   1.07800782e-01   4.23057713e-02\n",
      "    1.88155919e-02]\n",
      " [  8.71442378e-01   7.78996944e-02   4.26917188e-02   3.37567623e-03\n",
      "    2.97258887e-03]]\n",
      "\n",
      "Distribution for top-5: \n",
      "[0.1846, 0.4385, 0.3348, 0.3492, 0.2188, 0.3504, 0.0211, 0.2181, 0.1522, 0.2274, 0.1983, 0.1514, 0.076, 0.1111, 0.0723, 0.0651, 0.1326, 0.0516, 0.0473, 0.0262, 0.0713, 0.0156, 0.0396, 0.0895, 0.0885, 0.1447, 0.0956, 0.059, 0.1144, 0.0773, 0.1075, 0.0865, 0.0173, 0.0363, 0.088, 0.0778, 0.0479, 0.0185, 0.1063, 0.0303, 0.0439, 0.0721, 0.0451]\n",
      "\n",
      "Distribution for truth: \n",
      "[0.0048000002, 0.057, 0.0594, 0.035599999, 0.052299999, 0.049899999, 0.0119, 0.035599999, 0.035599999, 0.037999999, 0.052299999, 0.033300001, 0.0546, 0.057, 0.021400001, 0.0166, 0.0119, 0.0285, 0.0309, 0.0048000002, 0.0071, 0.0071, 0.0094999997, 0.0119, 0.0071, 0.037999999, 0.0143, 0.0048000002, 0.0119, 0.0071, 0.0119, 0.021400001, 0.0048000002, 0.0166, 0.0094999997, 0.0309, 0.0094999997, 0.0048000002, 0.0546, 0.0071, 0.0071, 0.0048000002, 0.0071]\n"
     ]
    }
   ],
   "source": [
    "## analysis with top-k softmax probabilities\n",
    "import sys,os\n",
    "\n",
    "softmax = tf.nn.softmax(logits)\n",
    "\n",
    "k = 5\n",
    "num_examples = len(X_test)\n",
    "print(num_examples)\n",
    "with tf.Session() as sess:\n",
    "    saver.restore(sess, tf.train.latest_checkpoint('.'))\n",
    "    for offset in range(0, num_examples, BATCH_SIZE):\n",
    "        batch_x = X_test[offset:offset+BATCH_SIZE]\n",
    "        if(offset == 0):\n",
    "            pred_y = sess.run(softmax, feed_dict={x: batch_x})\n",
    "        else:\n",
    "            pred_y = np.vstack([pred_y, sess.run(softmax, feed_dict={x: batch_x})])\n",
    "    topk = sess.run(tf.nn.top_k(tf.constant(pred_y), k= k))\n",
    "    \n",
    "    ## top-k softmax value\n",
    "    print(topk.values[:50])\n",
    "    \n",
    "    flattened_topk = topk.indices.reshape(1, -1).tolist()[0]\n",
    "    pred_dist = dict((i, 0.0) for i in range(43))\n",
    "    for v in flattened_topk:\n",
    "        pred_dist[v] += (1.0/num_examples)\n",
    "    encoded_y = sess.run(one_hot_y, feed_dict= {y: y_test})\n",
    "    y_dist = (1.0 * np.sum(encoded_y, axis= 0))/num_examples\n",
    "    print('\\nDistribution for top-%s: ' % k)\n",
    "    print([round(pred_dist[k], 4) for k in pred_dist])\n",
    "    \n",
    "    print('\\nDistribution for truth: ')\n",
    "    print([round(v, 4) for v in y_dist])"
   ]
  },
  {
   "cell_type": "code",
   "execution_count": null,
   "metadata": {
    "collapsed": true
   },
   "outputs": [],
   "source": []
  }
 ],
 "metadata": {
  "kernelspec": {
   "display_name": "Python 3",
   "language": "python",
   "name": "python3"
  },
  "language_info": {
   "codemirror_mode": {
    "name": "ipython",
    "version": 3
   },
   "file_extension": ".py",
   "mimetype": "text/x-python",
   "name": "python",
   "nbconvert_exporter": "python",
   "pygments_lexer": "ipython3",
   "version": "3.6.3"
  },
  "varInspector": {
   "cols": {
    "lenName": 16,
    "lenType": 16,
    "lenVar": 40
   },
   "kernels_config": {
    "python": {
     "delete_cmd_postfix": "",
     "delete_cmd_prefix": "del ",
     "library": "var_list.py",
     "varRefreshCmd": "print(var_dic_list())"
    },
    "r": {
     "delete_cmd_postfix": ") ",
     "delete_cmd_prefix": "rm(",
     "library": "var_list.r",
     "varRefreshCmd": "cat(var_dic_list()) "
    }
   },
   "types_to_exclude": [
    "module",
    "function",
    "builtin_function_or_method",
    "instance",
    "_Feature"
   ],
   "window_display": false
  }
 },
 "nbformat": 4,
 "nbformat_minor": 2
}
